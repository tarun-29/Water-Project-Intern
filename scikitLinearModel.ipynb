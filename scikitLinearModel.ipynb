{
 "metadata": {
  "language_info": {
   "codemirror_mode": {
    "name": "ipython",
    "version": 3
   },
   "file_extension": ".py",
   "mimetype": "text/x-python",
   "name": "python",
   "nbconvert_exporter": "python",
   "pygments_lexer": "ipython3",
   "version": "3.7.7-final"
  },
  "orig_nbformat": 2,
  "kernelspec": {
   "name": "Python 3.7.7 64-bit ('base': conda)",
   "display_name": "Python 3.7.7 64-bit ('base': conda)",
   "metadata": {
    "interpreter": {
     "hash": "800f677f18cc06c0b07cef98b506ddef7ddde25ea502d12b2ca6f9a0afc67152"
    }
   }
  }
 },
 "nbformat": 4,
 "nbformat_minor": 2,
 "cells": [
  {
   "cell_type": "code",
   "execution_count": 1,
   "metadata": {},
   "outputs": [],
   "source": [
    "import numpy as np\n",
    "import pandas as pd\n",
    "import matplotlib.pyplot as plt"
   ]
  },
  {
   "cell_type": "code",
   "execution_count": 2,
   "metadata": {},
   "outputs": [],
   "source": [
    "dataset = pd.read_csv(\"waterdata.csv\", encoding= 'unicode_escape')"
   ]
  },
  {
   "cell_type": "code",
   "execution_count": 5,
   "metadata": {},
   "outputs": [
    {
     "output_type": "execute_result",
     "data": {
      "text/plain": "              year\ncount  1991.000000\nmean   2010.038172\nstd       3.057333\nmin    2003.000000\n25%    2008.000000\n50%    2011.000000\n75%    2013.000000\nmax    2014.000000",
      "text/html": "<div>\n<style scoped>\n    .dataframe tbody tr th:only-of-type {\n        vertical-align: middle;\n    }\n\n    .dataframe tbody tr th {\n        vertical-align: top;\n    }\n\n    .dataframe thead th {\n        text-align: right;\n    }\n</style>\n<table border=\"1\" class=\"dataframe\">\n  <thead>\n    <tr style=\"text-align: right;\">\n      <th></th>\n      <th>year</th>\n    </tr>\n  </thead>\n  <tbody>\n    <tr>\n      <th>count</th>\n      <td>1991.000000</td>\n    </tr>\n    <tr>\n      <th>mean</th>\n      <td>2010.038172</td>\n    </tr>\n    <tr>\n      <th>std</th>\n      <td>3.057333</td>\n    </tr>\n    <tr>\n      <th>min</th>\n      <td>2003.000000</td>\n    </tr>\n    <tr>\n      <th>25%</th>\n      <td>2008.000000</td>\n    </tr>\n    <tr>\n      <th>50%</th>\n      <td>2011.000000</td>\n    </tr>\n    <tr>\n      <th>75%</th>\n      <td>2013.000000</td>\n    </tr>\n    <tr>\n      <th>max</th>\n      <td>2014.000000</td>\n    </tr>\n  </tbody>\n</table>\n</div>"
     },
     "metadata": {},
     "execution_count": 5
    }
   ],
   "source": [
    "dataset.describe()"
   ]
  },
  {
   "cell_type": "code",
   "execution_count": 4,
   "metadata": {},
   "outputs": [],
   "source": [
    "dataset[\"Temp\"] = pd.to_numeric(dataset['Temp'], errors='coerce')\n",
    "dataset[\"Temp\"] = dataset[\"Temp\"].replace(np.nan, 0)\n",
    "dataset[\"PH\"] = pd.to_numeric(dataset['PH'], errors='coerce')\n",
    "dataset[\"PH\"] = dataset[\"PH\"].replace(np.nan, 0)\n",
    "dataset[\"D.O. (mg/l)\"] = pd.to_numeric(dataset['D.O. (mg/l)'], errors='coerce')\n",
    "dataset[\"D.O. (mg/l)\"] = dataset[\"D.O. (mg/l)\"].replace(np.nan, 0)\n",
    "# dataset[\"Temp\"] = dataset[\"Temp\"].fillna()"
   ]
  },
  {
   "cell_type": "code",
   "execution_count": 5,
   "metadata": {},
   "outputs": [],
   "source": [
    "y = dataset[\"D.O. (mg/l)\"]"
   ]
  },
  {
   "cell_type": "code",
   "execution_count": 6,
   "metadata": {},
   "outputs": [],
   "source": [
    "X = dataset[[\"Temp\", \"PH\"]]"
   ]
  },
  {
   "cell_type": "code",
   "execution_count": 7,
   "metadata": {},
   "outputs": [],
   "source": [
    "# X[\"Temp\"] = X[\"Temp\"].mean()\n",
    "# X[\"Temp\"] = X[X[\"Temp\"]==0].mean()"
   ]
  },
  {
   "cell_type": "code",
   "execution_count": 8,
   "metadata": {},
   "outputs": [
    {
     "output_type": "execute_result",
     "data": {
      "text/plain": "111.64028478151683"
     },
     "metadata": {},
     "execution_count": 8
    }
   ],
   "source": [
    "# X[\"Temp\"].mean()\n",
    "X[\"PH\"].mean()"
   ]
  },
  {
   "cell_type": "code",
   "execution_count": 9,
   "metadata": {},
   "outputs": [],
   "source": [
    "dataset=dataset.mask(dataset[\"Temp\"]==0).fillna(dataset[\"Temp\"].mean())\n",
    "dataset=dataset.mask(dataset[\"PH\"]==0).fillna(dataset[\"PH\"].mean())\n",
    "dataset=dataset.mask(dataset[\"D.O. (mg/l)\"]==0).fillna(dataset[\"D.O. (mg/l)\"].mean())"
   ]
  },
  {
   "cell_type": "code",
   "execution_count": 10,
   "metadata": {},
   "outputs": [
    {
     "output_type": "execute_result",
     "data": {
      "text/plain": "0         7.500000\n1         7.200000\n2         6.900000\n3         6.900000\n4         7.300000\n           ...    \n1986     24.998713\n1987    585.000000\n1988     98.000000\n1989     91.000000\n1990    110.000000\nName: PH, Length: 1991, dtype: float64"
     },
     "metadata": {},
     "execution_count": 10
    }
   ],
   "source": [
    "y = dataset[\"D.O. (mg/l)\"]\n",
    "X = dataset[[\"Temp\", \"PH\"]]\n",
    "X[\"PH\"]"
   ]
  },
  {
   "cell_type": "code",
   "execution_count": 11,
   "metadata": {},
   "outputs": [],
   "source": [
    "from sklearn.model_selection import train_test_split"
   ]
  },
  {
   "cell_type": "code",
   "execution_count": 12,
   "metadata": {},
   "outputs": [],
   "source": [
    "X_train, X_test, y_train, y_test = train_test_split(X, y, test_size=0.3, random_state=101)"
   ]
  },
  {
   "cell_type": "code",
   "execution_count": 13,
   "metadata": {},
   "outputs": [],
   "source": [
    "from sklearn.linear_model import LinearRegression"
   ]
  },
  {
   "cell_type": "code",
   "execution_count": 14,
   "metadata": {},
   "outputs": [],
   "source": [
    "lm = LinearRegression()"
   ]
  },
  {
   "cell_type": "code",
   "execution_count": 15,
   "metadata": {},
   "outputs": [
    {
     "output_type": "execute_result",
     "data": {
      "text/plain": "LinearRegression()"
     },
     "metadata": {},
     "execution_count": 15
    }
   ],
   "source": [
    "lm.fit(X_train, y_train)"
   ]
  },
  {
   "cell_type": "code",
   "execution_count": 16,
   "metadata": {},
   "outputs": [
    {
     "output_type": "execute_result",
     "data": {
      "text/plain": "array([-7.00139188e-02,  3.22665334e-06])"
     },
     "metadata": {},
     "execution_count": 16
    }
   ],
   "source": [
    "lm.coef_"
   ]
  },
  {
   "cell_type": "code",
   "execution_count": 17,
   "metadata": {},
   "outputs": [],
   "source": [
    "predictions = lm.predict(X_test)"
   ]
  },
  {
   "cell_type": "code",
   "execution_count": 1,
   "metadata": {},
   "outputs": [],
   "source": [
    "# predictions\n",
    "# 0.07 0.0000032"
   ]
  },
  {
   "cell_type": "code",
   "execution_count": 19,
   "metadata": {},
   "outputs": [
    {
     "output_type": "execute_result",
     "data": {
      "text/plain": "(598, 2)"
     },
     "metadata": {},
     "execution_count": 19
    }
   ],
   "source": [
    "X_test.shape"
   ]
  },
  {
   "cell_type": "code",
   "execution_count": 25,
   "metadata": {},
   "outputs": [],
   "source": [
    "data = {'longitude':  [30.6],\n",
    "        'latitude': [7.5]}"
   ]
  },
  {
   "cell_type": "code",
   "execution_count": 26,
   "metadata": {},
   "outputs": [],
   "source": [
    "df = pd.DataFrame (data, columns = ['longitude','latitude'])"
   ]
  },
  {
   "cell_type": "code",
   "execution_count": 27,
   "metadata": {},
   "outputs": [
    {
     "output_type": "execute_result",
     "data": {
      "text/plain": "(1, 2)"
     },
     "metadata": {},
     "execution_count": 27
    }
   ],
   "source": [
    "df.shape"
   ]
  },
  {
   "cell_type": "code",
   "execution_count": 28,
   "metadata": {},
   "outputs": [],
   "source": [
    "answer = lm.predict(df)"
   ]
  },
  {
   "cell_type": "code",
   "execution_count": 29,
   "metadata": {},
   "outputs": [
    {
     "output_type": "execute_result",
     "data": {
      "text/plain": "array([6.89618048])"
     },
     "metadata": {},
     "execution_count": 29
    }
   ],
   "source": [
    "answer"
   ]
  },
  {
   "cell_type": "code",
   "execution_count": null,
   "metadata": {},
   "outputs": [],
   "source": []
  }
 ]
}