{
 "metadata": {
  "language_info": {
   "codemirror_mode": {
    "name": "ipython",
    "version": 3
   },
   "file_extension": ".py",
   "mimetype": "text/x-python",
   "name": "python",
   "nbconvert_exporter": "python",
   "pygments_lexer": "ipython3",
   "version": "3.7.7-final"
  },
  "orig_nbformat": 2,
  "kernelspec": {
   "name": "python_defaultSpec_1600541901553",
   "display_name": "Python 3.7.7 64-bit ('CVCourse': conda)"
  }
 },
 "nbformat": 4,
 "nbformat_minor": 2,
 "cells": [
  {
   "cell_type": "code",
   "execution_count": 4,
   "metadata": {},
   "outputs": [],
   "source": [
    "import pandas as pd\n",
    "import numpy as np"
   ]
  },
  {
   "cell_type": "code",
   "execution_count": 5,
   "metadata": {},
   "outputs": [],
   "source": [
    "used_features = [\"Temp\", \"PH\",\"D.O. (mg/l)\"]\n",
    "data = pd.read_csv(\"waterdata.csv\", usecols = used_features, encoding= 'unicode_escape')"
   ]
  },
  {
   "cell_type": "code",
   "execution_count": 6,
   "metadata": {},
   "outputs": [
    {
     "output_type": "execute_result",
     "data": {
      "text/plain": "      Temp D.O. (mg/l)     PH\n0     30.6         6.7    7.5\n1     29.8         5.7    7.2\n2     29.5         6.3    6.9\n3     29.7         5.8    6.9\n4     29.5         5.8    7.3\n...    ...         ...    ...\n1983    30         7.9  738.0\n1984    29         7.5  585.0\n1985    28         7.6   98.0\n1986    28         7.7   91.0\n1987    29         7.6  110.0\n\n[1988 rows x 3 columns]",
      "text/html": "<div>\n<style scoped>\n    .dataframe tbody tr th:only-of-type {\n        vertical-align: middle;\n    }\n\n    .dataframe tbody tr th {\n        vertical-align: top;\n    }\n\n    .dataframe thead th {\n        text-align: right;\n    }\n</style>\n<table border=\"1\" class=\"dataframe\">\n  <thead>\n    <tr style=\"text-align: right;\">\n      <th></th>\n      <th>Temp</th>\n      <th>D.O. (mg/l)</th>\n      <th>PH</th>\n    </tr>\n  </thead>\n  <tbody>\n    <tr>\n      <th>0</th>\n      <td>30.6</td>\n      <td>6.7</td>\n      <td>7.5</td>\n    </tr>\n    <tr>\n      <th>1</th>\n      <td>29.8</td>\n      <td>5.7</td>\n      <td>7.2</td>\n    </tr>\n    <tr>\n      <th>2</th>\n      <td>29.5</td>\n      <td>6.3</td>\n      <td>6.9</td>\n    </tr>\n    <tr>\n      <th>3</th>\n      <td>29.7</td>\n      <td>5.8</td>\n      <td>6.9</td>\n    </tr>\n    <tr>\n      <th>4</th>\n      <td>29.5</td>\n      <td>5.8</td>\n      <td>7.3</td>\n    </tr>\n    <tr>\n      <th>...</th>\n      <td>...</td>\n      <td>...</td>\n      <td>...</td>\n    </tr>\n    <tr>\n      <th>1983</th>\n      <td>30</td>\n      <td>7.9</td>\n      <td>738.0</td>\n    </tr>\n    <tr>\n      <th>1984</th>\n      <td>29</td>\n      <td>7.5</td>\n      <td>585.0</td>\n    </tr>\n    <tr>\n      <th>1985</th>\n      <td>28</td>\n      <td>7.6</td>\n      <td>98.0</td>\n    </tr>\n    <tr>\n      <th>1986</th>\n      <td>28</td>\n      <td>7.7</td>\n      <td>91.0</td>\n    </tr>\n    <tr>\n      <th>1987</th>\n      <td>29</td>\n      <td>7.6</td>\n      <td>110.0</td>\n    </tr>\n  </tbody>\n</table>\n<p>1988 rows × 3 columns</p>\n</div>"
     },
     "metadata": {},
     "execution_count": 6
    }
   ],
   "source": [
    "data"
   ]
  },
  {
   "cell_type": "code",
   "execution_count": 7,
   "metadata": {},
   "outputs": [],
   "source": [
    "data[\"Temp\"] = pd.to_numeric(data['Temp'], errors='coerce')\n",
    "data[\"Temp\"] = data[\"Temp\"].replace(np.nan, 0)\n",
    "data[\"PH\"] = pd.to_numeric(data['PH'], errors='coerce')\n",
    "data[\"PH\"] = data[\"PH\"].replace(np.nan, 0)\n",
    "data[\"D.O. (mg/l)\"] = pd.to_numeric(data[\"D.O. (mg/l)\"], errors='coerce')\n",
    "data[\"D.O. (mg/l)\"] = data[\"D.O. (mg/l)\"].replace(np.nan, 0)"
   ]
  },
  {
   "cell_type": "code",
   "execution_count": 8,
   "metadata": {},
   "outputs": [],
   "source": [
    "data=data.mask(data[\"Temp\"]==0).fillna(data[\"Temp\"].mean())\n",
    "data=data.mask(data[\"PH\"]==0).fillna(data[\"PH\"].mean())\n",
    "data=data.mask(data[\"D.O. (mg/l)\"]==0).fillna(data[\"D.O. (mg/l)\"].mean())\n",
    "target = data[\"D.O. (mg/l)\"]"
   ]
  },
  {
   "cell_type": "code",
   "execution_count": 9,
   "metadata": {},
   "outputs": [],
   "source": [
    "from sklearn.model_selection import train_test_split\n",
    "X_train, X_test, y_train, y_test = train_test_split(\n",
    "     data, target, test_size=0.33, random_state=42)"
   ]
  },
  {
   "cell_type": "code",
   "execution_count": 10,
   "metadata": {},
   "outputs": [
    {
     "output_type": "execute_result",
     "data": {
      "text/plain": "      Temp  D.O. (mg/l)       PH\n380   27.3          4.6     7.00\n1933  26.0          6.9  1835.00\n1790  29.0          7.2     7.42\n84    30.7          6.9     6.80\n1667  18.0          6.1     3.10",
      "text/html": "<div>\n<style scoped>\n    .dataframe tbody tr th:only-of-type {\n        vertical-align: middle;\n    }\n\n    .dataframe tbody tr th {\n        vertical-align: top;\n    }\n\n    .dataframe thead th {\n        text-align: right;\n    }\n</style>\n<table border=\"1\" class=\"dataframe\">\n  <thead>\n    <tr style=\"text-align: right;\">\n      <th></th>\n      <th>Temp</th>\n      <th>D.O. (mg/l)</th>\n      <th>PH</th>\n    </tr>\n  </thead>\n  <tbody>\n    <tr>\n      <th>380</th>\n      <td>27.3</td>\n      <td>4.6</td>\n      <td>7.00</td>\n    </tr>\n    <tr>\n      <th>1933</th>\n      <td>26.0</td>\n      <td>6.9</td>\n      <td>1835.00</td>\n    </tr>\n    <tr>\n      <th>1790</th>\n      <td>29.0</td>\n      <td>7.2</td>\n      <td>7.42</td>\n    </tr>\n    <tr>\n      <th>84</th>\n      <td>30.7</td>\n      <td>6.9</td>\n      <td>6.80</td>\n    </tr>\n    <tr>\n      <th>1667</th>\n      <td>18.0</td>\n      <td>6.1</td>\n      <td>3.10</td>\n    </tr>\n  </tbody>\n</table>\n</div>"
     },
     "metadata": {},
     "execution_count": 10
    }
   ],
   "source": [
    "X_train.head()"
   ]
  },
  {
   "cell_type": "code",
   "execution_count": 11,
   "metadata": {},
   "outputs": [
    {
     "output_type": "execute_result",
     "data": {
      "text/plain": "      Temp       PH\n380   27.3     7.00\n1933  26.0  1835.00\n1790  29.0     7.42\n84    30.7     6.80\n1667  18.0     3.10",
      "text/html": "<div>\n<style scoped>\n    .dataframe tbody tr th:only-of-type {\n        vertical-align: middle;\n    }\n\n    .dataframe tbody tr th {\n        vertical-align: top;\n    }\n\n    .dataframe thead th {\n        text-align: right;\n    }\n</style>\n<table border=\"1\" class=\"dataframe\">\n  <thead>\n    <tr style=\"text-align: right;\">\n      <th></th>\n      <th>Temp</th>\n      <th>PH</th>\n    </tr>\n  </thead>\n  <tbody>\n    <tr>\n      <th>380</th>\n      <td>27.3</td>\n      <td>7.00</td>\n    </tr>\n    <tr>\n      <th>1933</th>\n      <td>26.0</td>\n      <td>1835.00</td>\n    </tr>\n    <tr>\n      <th>1790</th>\n      <td>29.0</td>\n      <td>7.42</td>\n    </tr>\n    <tr>\n      <th>84</th>\n      <td>30.7</td>\n      <td>6.80</td>\n    </tr>\n    <tr>\n      <th>1667</th>\n      <td>18.0</td>\n      <td>3.10</td>\n    </tr>\n  </tbody>\n</table>\n</div>"
     },
     "metadata": {},
     "execution_count": 11
    }
   ],
   "source": [
    "train_X = X_train.drop(columns=['D.O. (mg/l)'])\n",
    "train_X.head()"
   ]
  },
  {
   "cell_type": "code",
   "execution_count": 12,
   "metadata": {},
   "outputs": [
    {
     "output_type": "execute_result",
     "data": {
      "text/plain": "(1331,)"
     },
     "metadata": {},
     "execution_count": 12
    }
   ],
   "source": [
    "y_train.shape"
   ]
  },
  {
   "cell_type": "code",
   "execution_count": 13,
   "metadata": {},
   "outputs": [
    {
     "output_type": "execute_result",
     "data": {
      "text/plain": "   D.O. (mg/l)\n0          6.7\n1          5.7\n2          6.3\n3          5.8\n4          5.8",
      "text/html": "<div>\n<style scoped>\n    .dataframe tbody tr th:only-of-type {\n        vertical-align: middle;\n    }\n\n    .dataframe tbody tr th {\n        vertical-align: top;\n    }\n\n    .dataframe thead th {\n        text-align: right;\n    }\n</style>\n<table border=\"1\" class=\"dataframe\">\n  <thead>\n    <tr style=\"text-align: right;\">\n      <th></th>\n      <th>D.O. (mg/l)</th>\n    </tr>\n  </thead>\n  <tbody>\n    <tr>\n      <th>0</th>\n      <td>6.7</td>\n    </tr>\n    <tr>\n      <th>1</th>\n      <td>5.7</td>\n    </tr>\n    <tr>\n      <th>2</th>\n      <td>6.3</td>\n    </tr>\n    <tr>\n      <th>3</th>\n      <td>5.8</td>\n    </tr>\n    <tr>\n      <th>4</th>\n      <td>5.8</td>\n    </tr>\n  </tbody>\n</table>\n</div>"
     },
     "metadata": {},
     "execution_count": 13
    }
   ],
   "source": [
    "train_y = data[['D.O. (mg/l)']]\n",
    "train_y.head()"
   ]
  },
  {
   "cell_type": "code",
   "execution_count": 14,
   "metadata": {},
   "outputs": [],
   "source": [
    "import tensorflow as tf\n",
    "from tensorflow import keras\n",
    "from tensorflow.keras import layers\n",
    "import tensorflowjs as tfjs"
   ]
  },
  {
   "cell_type": "code",
   "execution_count": 15,
   "metadata": {},
   "outputs": [],
   "source": [
    "n_cols = train_X.shape[1]"
   ]
  },
  {
   "cell_type": "code",
   "execution_count": 16,
   "metadata": {},
   "outputs": [],
   "source": [
    "model = keras.Sequential(\n",
    "    [\n",
    "        layers.Dense(10, activation=\"relu\", name=\"layer1\",input_shape=(n_cols,)),\n",
    "        layers.Dense(3, activation=\"relu\", name=\"layer2\"),\n",
    "        layers.Dense(1, name=\"layer3\"),\n",
    "    ]\n",
    ")"
   ]
  },
  {
   "cell_type": "code",
   "execution_count": 17,
   "metadata": {},
   "outputs": [],
   "source": [
    "model.compile(optimizer='adam', loss='mean_squared_error')"
   ]
  },
  {
   "cell_type": "code",
   "execution_count": 18,
   "metadata": {
    "tags": []
   },
   "outputs": [],
   "source": [
    "from tensorflow.keras.callbacks import EarlyStopping"
   ]
  },
  {
   "cell_type": "code",
   "execution_count": 19,
   "metadata": {},
   "outputs": [],
   "source": [
    "early_stopping_monitor = EarlyStopping(patience=3)"
   ]
  },
  {
   "cell_type": "code",
   "execution_count": 20,
   "metadata": {
    "tags": []
   },
   "outputs": [
    {
     "output_type": "stream",
     "name": "stdout",
     "text": "Epoch 1/30\n34/34 [==============================] - 0s 5ms/step - loss: 134888.4531 - val_loss: 190.6741\nEpoch 2/30\n34/34 [==============================] - 0s 2ms/step - loss: 98346.8984 - val_loss: 132.5723\nEpoch 3/30\n34/34 [==============================] - 0s 2ms/step - loss: 64483.6094 - val_loss: 81.6756\nEpoch 4/30\n34/34 [==============================] - 0s 3ms/step - loss: 39814.9727 - val_loss: 48.5388\nEpoch 5/30\n34/34 [==============================] - 0s 2ms/step - loss: 24494.5254 - val_loss: 24.9977\nEpoch 6/30\n34/34 [==============================] - 0s 1ms/step - loss: 13225.4150 - val_loss: 18.1318\nEpoch 7/30\n34/34 [==============================] - 0s 2ms/step - loss: 6659.7178 - val_loss: 10.9766\nEpoch 8/30\n34/34 [==============================] - 0s 2ms/step - loss: 3631.1292 - val_loss: 9.7798\nEpoch 9/30\n34/34 [==============================] - 0s 2ms/step - loss: 1119.3126 - val_loss: 10.7473\nEpoch 10/30\n34/34 [==============================] - 0s 2ms/step - loss: 490.4589 - val_loss: 12.0368\nEpoch 11/30\n34/34 [==============================] - 0s 2ms/step - loss: 175.8047 - val_loss: 12.6302\n"
    },
    {
     "output_type": "execute_result",
     "data": {
      "text/plain": "<tensorflow.python.keras.callbacks.History at 0x7fbac4b0e250>"
     },
     "metadata": {},
     "execution_count": 20
    }
   ],
   "source": [
    "model.fit(train_X, train_y, validation_split=0.2, epochs=30, callbacks=[early_stopping_monitor])"
   ]
  },
  {
   "cell_type": "code",
   "execution_count": 25,
   "metadata": {},
   "outputs": [],
   "source": [
    "tfjs_target_dir = \"./tfjs\""
   ]
  },
  {
   "cell_type": "code",
   "execution_count": 26,
   "metadata": {},
   "outputs": [],
   "source": [
    "tfjs.converters.save_keras_model(model, tfjs_target_dir)"
   ]
  },
  {
   "cell_type": "code",
   "execution_count": 21,
   "metadata": {},
   "outputs": [
    {
     "output_type": "execute_result",
     "data": {
      "text/plain": "      Temp    PH\n1251  28.0  6.90\n757   25.0  2.60\n1379  25.0  7.30\n70    27.5  6.70\n1206  24.0  7.05\n...    ...   ...\n522   28.0  6.80\n513   29.0  7.20\n81    26.0  7.50\n1872  28.0  7.58\n1007  22.7  7.20\n\n[657 rows x 2 columns]",
      "text/html": "<div>\n<style scoped>\n    .dataframe tbody tr th:only-of-type {\n        vertical-align: middle;\n    }\n\n    .dataframe tbody tr th {\n        vertical-align: top;\n    }\n\n    .dataframe thead th {\n        text-align: right;\n    }\n</style>\n<table border=\"1\" class=\"dataframe\">\n  <thead>\n    <tr style=\"text-align: right;\">\n      <th></th>\n      <th>Temp</th>\n      <th>PH</th>\n    </tr>\n  </thead>\n  <tbody>\n    <tr>\n      <th>1251</th>\n      <td>28.0</td>\n      <td>6.90</td>\n    </tr>\n    <tr>\n      <th>757</th>\n      <td>25.0</td>\n      <td>2.60</td>\n    </tr>\n    <tr>\n      <th>1379</th>\n      <td>25.0</td>\n      <td>7.30</td>\n    </tr>\n    <tr>\n      <th>70</th>\n      <td>27.5</td>\n      <td>6.70</td>\n    </tr>\n    <tr>\n      <th>1206</th>\n      <td>24.0</td>\n      <td>7.05</td>\n    </tr>\n    <tr>\n      <th>...</th>\n      <td>...</td>\n      <td>...</td>\n    </tr>\n    <tr>\n      <th>522</th>\n      <td>28.0</td>\n      <td>6.80</td>\n    </tr>\n    <tr>\n      <th>513</th>\n      <td>29.0</td>\n      <td>7.20</td>\n    </tr>\n    <tr>\n      <th>81</th>\n      <td>26.0</td>\n      <td>7.50</td>\n    </tr>\n    <tr>\n      <th>1872</th>\n      <td>28.0</td>\n      <td>7.58</td>\n    </tr>\n    <tr>\n      <th>1007</th>\n      <td>22.7</td>\n      <td>7.20</td>\n    </tr>\n  </tbody>\n</table>\n<p>657 rows × 2 columns</p>\n</div>"
     },
     "metadata": {},
     "execution_count": 21
    }
   ],
   "source": [
    "test_X = X_test.drop(columns=['D.O. (mg/l)'])\n",
    "test_X\n",
    "# test_y_predictions = model.predict(X_test)"
   ]
  },
  {
   "cell_type": "code",
   "execution_count": null,
   "metadata": {},
   "outputs": [],
   "source": [
    "30.6,6.7,7.5"
   ]
  },
  {
   "cell_type": "code",
   "execution_count": 41,
   "metadata": {},
   "outputs": [
    {
     "output_type": "execute_result",
     "data": {
      "text/plain": "   Temp   PH\n0  30.6  7.5",
      "text/html": "<div>\n<style scoped>\n    .dataframe tbody tr th:only-of-type {\n        vertical-align: middle;\n    }\n\n    .dataframe tbody tr th {\n        vertical-align: top;\n    }\n\n    .dataframe thead th {\n        text-align: right;\n    }\n</style>\n<table border=\"1\" class=\"dataframe\">\n  <thead>\n    <tr style=\"text-align: right;\">\n      <th></th>\n      <th>Temp</th>\n      <th>PH</th>\n    </tr>\n  </thead>\n  <tbody>\n    <tr>\n      <th>0</th>\n      <td>30.6</td>\n      <td>7.5</td>\n    </tr>\n  </tbody>\n</table>\n</div>"
     },
     "metadata": {},
     "execution_count": 41
    }
   ],
   "source": [
    "data = [[30.6, 7.5]] \n",
    "  \n",
    "# Create the pandas DataFrame \n",
    "df = pd.DataFrame(data, columns = ['Temp', 'PH']) \n",
    "  \n",
    "# print dataframe. \n",
    "df "
   ]
  },
  {
   "cell_type": "code",
   "execution_count": 43,
   "metadata": {},
   "outputs": [],
   "source": [
    "# test_y_predictions = model.predict(test_X)\n",
    "test_y_predictions = model.predict(df)"
   ]
  },
  {
   "cell_type": "code",
   "execution_count": 45,
   "metadata": {},
   "outputs": [
    {
     "output_type": "execute_result",
     "data": {
      "text/plain": "array([[7.67238]], dtype=float32)"
     },
     "metadata": {},
     "execution_count": 45
    }
   ],
   "source": [
    "test_y_predictions"
   ]
  },
  {
   "cell_type": "code",
   "execution_count": null,
   "metadata": {},
   "outputs": [],
   "source": []
  }
 ]
}