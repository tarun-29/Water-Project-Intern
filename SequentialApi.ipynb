{
 "metadata": {
  "language_info": {
   "codemirror_mode": {
    "name": "ipython",
    "version": 3
   },
   "file_extension": ".py",
   "mimetype": "text/x-python",
   "name": "python",
   "nbconvert_exporter": "python",
   "pygments_lexer": "ipython3",
   "version": "3.7.7-final"
  },
  "orig_nbformat": 2,
  "kernelspec": {
   "name": "python_defaultSpec_1599978415224",
   "display_name": "Python 3.7.7 64-bit ('CVCourse': conda)"
  }
 },
 "nbformat": 4,
 "nbformat_minor": 2,
 "cells": [
  {
   "cell_type": "code",
   "execution_count": 3,
   "metadata": {},
   "outputs": [],
   "source": [
    "import pandas as pd\n",
    "import numpy as np"
   ]
  },
  {
   "cell_type": "code",
   "execution_count": 4,
   "metadata": {},
   "outputs": [],
   "source": [
    "used_features = [\"Temp\", \"PH\",\"D.O. (mg/l)\"]\n",
    "data = pd.read_csv(\"waterdata.csv\", usecols = used_features, encoding= 'unicode_escape')"
   ]
  },
  {
   "cell_type": "code",
   "execution_count": 5,
   "metadata": {},
   "outputs": [
    {
     "output_type": "execute_result",
     "data": {
      "text/plain": "      Temp D.O. (mg/l)   PH\n0     30.6         6.7  7.5\n1     29.8         5.7  7.2\n2     29.5         6.3  6.9\n3     29.7         5.8  6.9\n4     29.5         5.8  7.3\n...    ...         ...  ...\n1986   NAN         7.9  738\n1987    29         7.5  585\n1988    28         7.6   98\n1989    28         7.7   91\n1990    29         7.6  110\n\n[1991 rows x 3 columns]",
      "text/html": "<div>\n<style scoped>\n    .dataframe tbody tr th:only-of-type {\n        vertical-align: middle;\n    }\n\n    .dataframe tbody tr th {\n        vertical-align: top;\n    }\n\n    .dataframe thead th {\n        text-align: right;\n    }\n</style>\n<table border=\"1\" class=\"dataframe\">\n  <thead>\n    <tr style=\"text-align: right;\">\n      <th></th>\n      <th>Temp</th>\n      <th>D.O. (mg/l)</th>\n      <th>PH</th>\n    </tr>\n  </thead>\n  <tbody>\n    <tr>\n      <th>0</th>\n      <td>30.6</td>\n      <td>6.7</td>\n      <td>7.5</td>\n    </tr>\n    <tr>\n      <th>1</th>\n      <td>29.8</td>\n      <td>5.7</td>\n      <td>7.2</td>\n    </tr>\n    <tr>\n      <th>2</th>\n      <td>29.5</td>\n      <td>6.3</td>\n      <td>6.9</td>\n    </tr>\n    <tr>\n      <th>3</th>\n      <td>29.7</td>\n      <td>5.8</td>\n      <td>6.9</td>\n    </tr>\n    <tr>\n      <th>4</th>\n      <td>29.5</td>\n      <td>5.8</td>\n      <td>7.3</td>\n    </tr>\n    <tr>\n      <th>...</th>\n      <td>...</td>\n      <td>...</td>\n      <td>...</td>\n    </tr>\n    <tr>\n      <th>1986</th>\n      <td>NAN</td>\n      <td>7.9</td>\n      <td>738</td>\n    </tr>\n    <tr>\n      <th>1987</th>\n      <td>29</td>\n      <td>7.5</td>\n      <td>585</td>\n    </tr>\n    <tr>\n      <th>1988</th>\n      <td>28</td>\n      <td>7.6</td>\n      <td>98</td>\n    </tr>\n    <tr>\n      <th>1989</th>\n      <td>28</td>\n      <td>7.7</td>\n      <td>91</td>\n    </tr>\n    <tr>\n      <th>1990</th>\n      <td>29</td>\n      <td>7.6</td>\n      <td>110</td>\n    </tr>\n  </tbody>\n</table>\n<p>1991 rows × 3 columns</p>\n</div>"
     },
     "metadata": {},
     "execution_count": 5
    }
   ],
   "source": [
    "data"
   ]
  },
  {
   "cell_type": "code",
   "execution_count": 6,
   "metadata": {},
   "outputs": [],
   "source": [
    "data[\"Temp\"] = pd.to_numeric(data['Temp'], errors='coerce')\n",
    "data[\"Temp\"] = data[\"Temp\"].replace(np.nan, 0)\n",
    "data[\"PH\"] = pd.to_numeric(data['PH'], errors='coerce')\n",
    "data[\"PH\"] = data[\"PH\"].replace(np.nan, 0)\n",
    "data[\"D.O. (mg/l)\"] = pd.to_numeric(data[\"D.O. (mg/l)\"], errors='coerce')\n",
    "data[\"D.O. (mg/l)\"] = data[\"D.O. (mg/l)\"].replace(np.nan, 0)"
   ]
  },
  {
   "cell_type": "code",
   "execution_count": 7,
   "metadata": {},
   "outputs": [],
   "source": [
    "data=data.mask(data[\"Temp\"]==0).fillna(data[\"Temp\"].mean())\n",
    "data=data.mask(data[\"PH\"]==0).fillna(data[\"PH\"].mean())\n",
    "data=data.mask(data[\"D.O. (mg/l)\"]==0).fillna(data[\"D.O. (mg/l)\"].mean())\n",
    "target = data[\"D.O. (mg/l)\"]"
   ]
  },
  {
   "cell_type": "code",
   "execution_count": 8,
   "metadata": {},
   "outputs": [],
   "source": [
    "from sklearn.model_selection import train_test_split\n",
    "X_train, X_test, y_train, y_test = train_test_split(\n",
    "     data, target, test_size=0.33, random_state=42)"
   ]
  },
  {
   "cell_type": "code",
   "execution_count": 9,
   "metadata": {},
   "outputs": [
    {
     "output_type": "execute_result",
     "data": {
      "text/plain": "      Temp  D.O. (mg/l)     PH\n1010  26.0         6.00  7.500\n380   27.9         5.90  7.000\n1789  27.0         7.20  8.070\n1680  22.0         5.35  7.935\n84    30.7         6.90  6.800",
      "text/html": "<div>\n<style scoped>\n    .dataframe tbody tr th:only-of-type {\n        vertical-align: middle;\n    }\n\n    .dataframe tbody tr th {\n        vertical-align: top;\n    }\n\n    .dataframe thead th {\n        text-align: right;\n    }\n</style>\n<table border=\"1\" class=\"dataframe\">\n  <thead>\n    <tr style=\"text-align: right;\">\n      <th></th>\n      <th>Temp</th>\n      <th>D.O. (mg/l)</th>\n      <th>PH</th>\n    </tr>\n  </thead>\n  <tbody>\n    <tr>\n      <th>1010</th>\n      <td>26.0</td>\n      <td>6.00</td>\n      <td>7.500</td>\n    </tr>\n    <tr>\n      <th>380</th>\n      <td>27.9</td>\n      <td>5.90</td>\n      <td>7.000</td>\n    </tr>\n    <tr>\n      <th>1789</th>\n      <td>27.0</td>\n      <td>7.20</td>\n      <td>8.070</td>\n    </tr>\n    <tr>\n      <th>1680</th>\n      <td>22.0</td>\n      <td>5.35</td>\n      <td>7.935</td>\n    </tr>\n    <tr>\n      <th>84</th>\n      <td>30.7</td>\n      <td>6.90</td>\n      <td>6.800</td>\n    </tr>\n  </tbody>\n</table>\n</div>"
     },
     "metadata": {},
     "execution_count": 9
    }
   ],
   "source": [
    "X_train.head()"
   ]
  },
  {
   "cell_type": "code",
   "execution_count": 10,
   "metadata": {},
   "outputs": [
    {
     "output_type": "execute_result",
     "data": {
      "text/plain": "      Temp     PH\n1010  26.0  7.500\n380   27.9  7.000\n1789  27.0  8.070\n1680  22.0  7.935\n84    30.7  6.800",
      "text/html": "<div>\n<style scoped>\n    .dataframe tbody tr th:only-of-type {\n        vertical-align: middle;\n    }\n\n    .dataframe tbody tr th {\n        vertical-align: top;\n    }\n\n    .dataframe thead th {\n        text-align: right;\n    }\n</style>\n<table border=\"1\" class=\"dataframe\">\n  <thead>\n    <tr style=\"text-align: right;\">\n      <th></th>\n      <th>Temp</th>\n      <th>PH</th>\n    </tr>\n  </thead>\n  <tbody>\n    <tr>\n      <th>1010</th>\n      <td>26.0</td>\n      <td>7.500</td>\n    </tr>\n    <tr>\n      <th>380</th>\n      <td>27.9</td>\n      <td>7.000</td>\n    </tr>\n    <tr>\n      <th>1789</th>\n      <td>27.0</td>\n      <td>8.070</td>\n    </tr>\n    <tr>\n      <th>1680</th>\n      <td>22.0</td>\n      <td>7.935</td>\n    </tr>\n    <tr>\n      <th>84</th>\n      <td>30.7</td>\n      <td>6.800</td>\n    </tr>\n  </tbody>\n</table>\n</div>"
     },
     "metadata": {},
     "execution_count": 10
    }
   ],
   "source": [
    "train_X = X_train.drop(columns=['D.O. (mg/l)'])\n",
    "train_X.head()"
   ]
  },
  {
   "cell_type": "code",
   "execution_count": 11,
   "metadata": {},
   "outputs": [
    {
     "output_type": "execute_result",
     "data": {
      "text/plain": "(1333,)"
     },
     "metadata": {},
     "execution_count": 11
    }
   ],
   "source": [
    "y_train.shape"
   ]
  },
  {
   "cell_type": "code",
   "execution_count": 13,
   "metadata": {},
   "outputs": [
    {
     "output_type": "execute_result",
     "data": {
      "text/plain": "   D.O. (mg/l)\n0          6.7\n1          5.7\n2          6.3\n3          5.8\n4          5.8",
      "text/html": "<div>\n<style scoped>\n    .dataframe tbody tr th:only-of-type {\n        vertical-align: middle;\n    }\n\n    .dataframe tbody tr th {\n        vertical-align: top;\n    }\n\n    .dataframe thead th {\n        text-align: right;\n    }\n</style>\n<table border=\"1\" class=\"dataframe\">\n  <thead>\n    <tr style=\"text-align: right;\">\n      <th></th>\n      <th>D.O. (mg/l)</th>\n    </tr>\n  </thead>\n  <tbody>\n    <tr>\n      <th>0</th>\n      <td>6.7</td>\n    </tr>\n    <tr>\n      <th>1</th>\n      <td>5.7</td>\n    </tr>\n    <tr>\n      <th>2</th>\n      <td>6.3</td>\n    </tr>\n    <tr>\n      <th>3</th>\n      <td>5.8</td>\n    </tr>\n    <tr>\n      <th>4</th>\n      <td>5.8</td>\n    </tr>\n  </tbody>\n</table>\n</div>"
     },
     "metadata": {},
     "execution_count": 13
    }
   ],
   "source": [
    "train_y = data[['D.O. (mg/l)']]\n",
    "train_y.head()"
   ]
  },
  {
   "cell_type": "code",
   "execution_count": 14,
   "metadata": {},
   "outputs": [],
   "source": [
    "import tensorflow as tf\n",
    "from tensorflow import keras\n",
    "from tensorflow.keras import layers"
   ]
  },
  {
   "cell_type": "code",
   "execution_count": 15,
   "metadata": {},
   "outputs": [],
   "source": [
    "n_cols = train_X.shape[1]"
   ]
  },
  {
   "cell_type": "code",
   "execution_count": 16,
   "metadata": {},
   "outputs": [],
   "source": [
    "model = keras.Sequential(\n",
    "    [\n",
    "        layers.Dense(10, activation=\"relu\", name=\"layer1\",input_shape=(n_cols,)),\n",
    "        layers.Dense(3, activation=\"relu\", name=\"layer2\"),\n",
    "        layers.Dense(1, name=\"layer3\"),\n",
    "    ]\n",
    ")"
   ]
  },
  {
   "cell_type": "code",
   "execution_count": 17,
   "metadata": {},
   "outputs": [],
   "source": [
    "model.compile(optimizer='adam', loss='mean_squared_error')"
   ]
  },
  {
   "cell_type": "code",
   "execution_count": 18,
   "metadata": {
    "tags": []
   },
   "outputs": [],
   "source": [
    "from tensorflow.keras.callbacks import EarlyStopping"
   ]
  },
  {
   "cell_type": "code",
   "execution_count": 19,
   "metadata": {},
   "outputs": [],
   "source": [
    "early_stopping_monitor = EarlyStopping(patience=3)"
   ]
  },
  {
   "cell_type": "code",
   "execution_count": 20,
   "metadata": {
    "tags": []
   },
   "outputs": [
    {
     "output_type": "stream",
     "name": "stdout",
     "text": "Epoch 1/30\n34/34 [==============================] - 0s 4ms/step - loss: 73434.7266 - val_loss: 114.8943\nEpoch 2/30\n34/34 [==============================] - 0s 1ms/step - loss: 58383.8281 - val_loss: 85.7083\nEpoch 3/30\n34/34 [==============================] - 0s 2ms/step - loss: 44651.8281 - val_loss: 67.9083\nEpoch 4/30\n34/34 [==============================] - 0s 2ms/step - loss: 37085.7500 - val_loss: 47.1016\nEpoch 5/30\n34/34 [==============================] - 0s 2ms/step - loss: 26733.2051 - val_loss: 37.3954\nEpoch 6/30\n34/34 [==============================] - 0s 3ms/step - loss: 20360.3242 - val_loss: 28.3835\nEpoch 7/30\n34/34 [==============================] - 0s 2ms/step - loss: 15489.9512 - val_loss: 20.4110\nEpoch 8/30\n34/34 [==============================] - 0s 2ms/step - loss: 10942.1084 - val_loss: 15.5045\nEpoch 9/30\n34/34 [==============================] - 0s 1ms/step - loss: 7509.0776 - val_loss: 13.4031\nEpoch 10/30\n34/34 [==============================] - 0s 2ms/step - loss: 5583.2393 - val_loss: 10.5372\nEpoch 11/30\n34/34 [==============================] - 0s 2ms/step - loss: 3832.7544 - val_loss: 8.2894\nEpoch 12/30\n34/34 [==============================] - 0s 2ms/step - loss: 2225.3984 - val_loss: 7.5177\nEpoch 13/30\n34/34 [==============================] - 0s 2ms/step - loss: 1446.8219 - val_loss: 6.9373\nEpoch 14/30\n34/34 [==============================] - 0s 2ms/step - loss: 899.3944 - val_loss: 6.6434\nEpoch 15/30\n34/34 [==============================] - 0s 2ms/step - loss: 583.6686 - val_loss: 6.5181\nEpoch 16/30\n34/34 [==============================] - 0s 2ms/step - loss: 304.9767 - val_loss: 6.4385\nEpoch 17/30\n34/34 [==============================] - 0s 3ms/step - loss: 190.2664 - val_loss: 6.4342\nEpoch 18/30\n34/34 [==============================] - 0s 2ms/step - loss: 107.5808 - val_loss: 6.4820\nEpoch 19/30\n34/34 [==============================] - 0s 3ms/step - loss: 57.2878 - val_loss: 6.4509\nEpoch 20/30\n34/34 [==============================] - 0s 2ms/step - loss: 38.1372 - val_loss: 6.4844\n"
    },
    {
     "output_type": "execute_result",
     "data": {
      "text/plain": "<tensorflow.python.keras.callbacks.History at 0x7fa9ae93d250>"
     },
     "metadata": {},
     "execution_count": 20
    }
   ],
   "source": [
    "model.fit(train_X, train_y, validation_split=0.2, epochs=30, callbacks=[early_stopping_monitor])"
   ]
  },
  {
   "cell_type": "code",
   "execution_count": 40,
   "metadata": {},
   "outputs": [
    {
     "output_type": "execute_result",
     "data": {
      "text/plain": "      Temp    PH\n887   28.8  7.50\n1670  16.0  7.00\n414   28.0  8.20\n1080  26.4  7.70\n1102  28.1  6.90\n...    ...   ...\n1857  18.0  3.05\n522   28.0  6.60\n513   30.0  6.80\n81    26.0  7.50\n720   28.0  7.50\n\n[658 rows x 2 columns]",
      "text/html": "<div>\n<style scoped>\n    .dataframe tbody tr th:only-of-type {\n        vertical-align: middle;\n    }\n\n    .dataframe tbody tr th {\n        vertical-align: top;\n    }\n\n    .dataframe thead th {\n        text-align: right;\n    }\n</style>\n<table border=\"1\" class=\"dataframe\">\n  <thead>\n    <tr style=\"text-align: right;\">\n      <th></th>\n      <th>Temp</th>\n      <th>PH</th>\n    </tr>\n  </thead>\n  <tbody>\n    <tr>\n      <th>887</th>\n      <td>28.8</td>\n      <td>7.50</td>\n    </tr>\n    <tr>\n      <th>1670</th>\n      <td>16.0</td>\n      <td>7.00</td>\n    </tr>\n    <tr>\n      <th>414</th>\n      <td>28.0</td>\n      <td>8.20</td>\n    </tr>\n    <tr>\n      <th>1080</th>\n      <td>26.4</td>\n      <td>7.70</td>\n    </tr>\n    <tr>\n      <th>1102</th>\n      <td>28.1</td>\n      <td>6.90</td>\n    </tr>\n    <tr>\n      <th>...</th>\n      <td>...</td>\n      <td>...</td>\n    </tr>\n    <tr>\n      <th>1857</th>\n      <td>18.0</td>\n      <td>3.05</td>\n    </tr>\n    <tr>\n      <th>522</th>\n      <td>28.0</td>\n      <td>6.60</td>\n    </tr>\n    <tr>\n      <th>513</th>\n      <td>30.0</td>\n      <td>6.80</td>\n    </tr>\n    <tr>\n      <th>81</th>\n      <td>26.0</td>\n      <td>7.50</td>\n    </tr>\n    <tr>\n      <th>720</th>\n      <td>28.0</td>\n      <td>7.50</td>\n    </tr>\n  </tbody>\n</table>\n<p>658 rows × 2 columns</p>\n</div>"
     },
     "metadata": {},
     "execution_count": 40
    }
   ],
   "source": [
    "test_X = X_test.drop(columns=['D.O. (mg/l)'])\n",
    "test_X\n",
    "# test_y_predictions = model.predict(X_test)"
   ]
  },
  {
   "cell_type": "code",
   "execution_count": null,
   "metadata": {},
   "outputs": [],
   "source": [
    "30.6,6.7,7.5"
   ]
  },
  {
   "cell_type": "code",
   "execution_count": 41,
   "metadata": {},
   "outputs": [
    {
     "output_type": "execute_result",
     "data": {
      "text/plain": "   Temp   PH\n0  30.6  7.5",
      "text/html": "<div>\n<style scoped>\n    .dataframe tbody tr th:only-of-type {\n        vertical-align: middle;\n    }\n\n    .dataframe tbody tr th {\n        vertical-align: top;\n    }\n\n    .dataframe thead th {\n        text-align: right;\n    }\n</style>\n<table border=\"1\" class=\"dataframe\">\n  <thead>\n    <tr style=\"text-align: right;\">\n      <th></th>\n      <th>Temp</th>\n      <th>PH</th>\n    </tr>\n  </thead>\n  <tbody>\n    <tr>\n      <th>0</th>\n      <td>30.6</td>\n      <td>7.5</td>\n    </tr>\n  </tbody>\n</table>\n</div>"
     },
     "metadata": {},
     "execution_count": 41
    }
   ],
   "source": [
    "data = [[30.6, 7.5]] \n",
    "  \n",
    "# Create the pandas DataFrame \n",
    "df = pd.DataFrame(data, columns = ['Temp', 'PH']) \n",
    "  \n",
    "# print dataframe. \n",
    "df "
   ]
  },
  {
   "cell_type": "code",
   "execution_count": 43,
   "metadata": {},
   "outputs": [],
   "source": [
    "# test_y_predictions = model.predict(test_X)\n",
    "test_y_predictions = model.predict(df)"
   ]
  },
  {
   "cell_type": "code",
   "execution_count": 45,
   "metadata": {},
   "outputs": [
    {
     "output_type": "execute_result",
     "data": {
      "text/plain": "array([[7.67238]], dtype=float32)"
     },
     "metadata": {},
     "execution_count": 45
    }
   ],
   "source": [
    "test_y_predictions"
   ]
  },
  {
   "cell_type": "code",
   "execution_count": null,
   "metadata": {},
   "outputs": [],
   "source": []
  }
 ]
}