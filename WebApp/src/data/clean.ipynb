{
 "metadata": {
  "language_info": {
   "codemirror_mode": {
    "name": "ipython",
    "version": 3
   },
   "file_extension": ".py",
   "mimetype": "text/x-python",
   "name": "python",
   "nbconvert_exporter": "python",
   "pygments_lexer": "ipython3",
   "version": "3.7.7-final"
  },
  "orig_nbformat": 2,
  "kernelspec": {
   "name": "python_defaultSpec_1600458384882",
   "display_name": "Python 3.7.7 64-bit ('CVCourse': conda)"
  }
 },
 "nbformat": 4,
 "nbformat_minor": 2,
 "cells": [
  {
   "cell_type": "code",
   "execution_count": 22,
   "metadata": {},
   "outputs": [],
   "source": [
    "import pandas as pd\n",
    "from csv import reader\n",
    "from csv import writer"
   ]
  },
  {
   "cell_type": "code",
   "execution_count": 23,
   "metadata": {
    "tags": []
   },
   "outputs": [
    {
     "output_type": "stream",
     "name": "stdout",
     "text": "Te\n30\n29\n29\n29\n29\n30\n29\n29\n30\n30\n27\n27\n29\n29\n30\n29\n29\n28\n28\n29\n29\n29\n28\n30\n30\n30\n29\n30\n29\n25\n29\n27\n27\n30\n25\n25\n25\n25\n25\n26\n21\n27\n27\n27\n27\n27\n27\n27\n22\n28\n28\n27\n27\n28\n27\n27\n27\n27\n28\n28\n28\n26\n23\n23\n23\n25\n24\n25\n24\n27\n27\n25\n29\n29\n27\n26\n25\n26\n29\n28\n26\n26\n23\n30\n30\n28\n28\n24\n26\n29\n26\n30\n25\n25\n28\n28\n29\n29\n28\n26\n25\n26\n25\n28\n28\n27\n29\n27\n30\n27\n30\n30\n25\n25\n25\n27\n28\n28\n28\n27\n28\n28\n28\n28\n28\n28\n27\n28\n29\n28\n28\n26\n31\n30\n28\n25\n25\n26\n18\n20\n27\n26\n29\n28\n24\n24\n22\n24\n24\n22\n26\n27\n25\n27\n29\n25\n25\n25\n32\n29\n22\n24\n25\n29\n23\n22\n29\n29\n23\n29\n25\n25\n24\n29\n22\n19\n23\n24\n24\n25\n22\n24\n23\n19\n21\n20\n29\n29\n32\n23\n23\n24\n29\n18\n25\n22\n23\n23\n25\n25\n25\n23\n20\n18\n19\n24\n20\n21\n26\n25\n20\n20\n19\n21\n19\n18\n19\n23\n18\n18\n18\n25\n18\n20\n20\n18\n18\n18\n18\n18\n22\n17\n18\n18\n23\n22\n20\n19\n24\n24\n23\n23\n27\n29\n26\n29\n27\n27\n29\n24\n29\n27\n28\n28\n29\n27\n29\n29\n27\n29\n29\n30\n30\n30\n30\n30\n29\n29\n29\n29\n27\n28\n29\n28\n29\n29\n29\n28\n27\n29\n28\n29\n28\n30\n30\n30\n29\n29\n29\n26\n29\n28\n28\n26\n20\n27\n27\n26\n26\n27\n27\n28\n28\n28\n28\n28\n28\n28\n29\n28\n28\n29\n28\n27\n27\n27\n28\n26\n26\n28\n24\n24\n24\n24\n24\n24\n24\n26\n27\n26\n28\n28\n28\n27\n27\n26\n30\n28\n27\n24\n23\n29\n30\n28\n27\n23\n27\n27\n26\n29\n27\n26\n30\n28\n30\n27\n27\n26\n27\n27\n26\n28\n28\n25\n29\n27\n30\n27\n30\n30\n26\n26\n25\n27\n28\n28\n28\n27\n27\n28\n27\n27\n28\n28\n26\n28\n29\n28\n28\n26\n30\n30\n27\n26\n27\n26\n19\n21\n27\n26\n28\n27\n23\n23\n22\n26\n26\n22\n27\n26\n25\n26\n24\n28\n28\n28\n27\n27\n23\n25\n26\n29\n24\n23\n29\n27\n24\n28\n26\n25\n26\n29\n23\n22\n23\n21\n24\n23\n24\n23\n23\n22\n26\n25\n29\n29\n29\n29\n30\n20\n20\n20\n20\n28\n23\n25\n31\n26\n22\n24\n23\n24\n23\n21\n18\n18\n23\n17\n18\n18\n21\n22\n25\n24\n19\n20\n20\n21\n17\n17\n23\n18\n18\n18\n24\n19\n20\n20\n18\n19\n19\n20\n17\n22\n17\n18\n19\n23\n22\n23\n23\n23\n23\n27\n21\n27\n31\n28\n27\n30\n31\n29\n31\n30\n30\n29\n29\n29\n28\n30\n30\n27\n28\n29\n28\n29\n29\n30\n28\n28\n29\n28\n30\n30\n31\n29\n30\n29\n29\n29\n29\n30\n27\n27\n27\n23\n29\n29\n28\n29\n25\n28\n29\n29\n29\n29\n30\n30\n29\n25\n30\n30\n31\n30\n30\n28\n28\n28\n27\n27\n26\n27\n28\n23\n22\n23\n26\n26\n26\n26\n26\n26\n29\n28\n28\n29\n26\n26\n28\n29\n28\n26\n26\n25\n29\n29\n28\n27\n25\n26\n27\n27\n29\n29\n29\n29\n27\n30\n27\n27\n25\n25\n26\n29\n27\n27\n27\n28\n26\n29\n27\n28\n29\n28\n29\n26\n28\n28\n28\n28\n27\n28\n28\n28\n28\n28\n28\n26\n28\n29\n28\n28\n26\n29\n29\n27\n29\n27\n27\n20\n24\n28\n27\n32\n30\n22\n22\n24\n27\n26\n25\n28\n29\n26\n28\n31\n25\n25\n25\n26\n27\n23\n25\n26\n29\n24\n24\n29\n29\n24\n29\n26\n27\n32\n"
    },
    {
     "output_type": "error",
     "ename": "IndexError",
     "evalue": "string index out of range",
     "traceback": [
      "\u001b[0;31m---------------------------------------------------------------------------\u001b[0m",
      "\u001b[0;31mIndexError\u001b[0m                                Traceback (most recent call last)",
      "\u001b[0;32m<ipython-input-23-95aca9667b56>\u001b[0m in \u001b[0;36m<module>\u001b[0;34m\u001b[0m\n\u001b[1;32m      3\u001b[0m \u001b[0;32mfor\u001b[0m \u001b[0mm\u001b[0m \u001b[0;32min\u001b[0m \u001b[0mr\u001b[0m \u001b[0;34m:\u001b[0m\u001b[0;34m\u001b[0m\u001b[0;34m\u001b[0m\u001b[0m\n\u001b[1;32m      4\u001b[0m     \u001b[0mn\u001b[0m \u001b[0;34m=\u001b[0m \u001b[0mm\u001b[0m\u001b[0;34m[\u001b[0m\u001b[0;36m0\u001b[0m\u001b[0;34m]\u001b[0m\u001b[0;34m\u001b[0m\u001b[0;34m\u001b[0m\u001b[0m\n\u001b[0;32m----> 5\u001b[0;31m     \u001b[0mprint\u001b[0m\u001b[0;34m(\u001b[0m\u001b[0mn\u001b[0m\u001b[0;34m[\u001b[0m\u001b[0;36m0\u001b[0m\u001b[0;34m]\u001b[0m\u001b[0;34m+\u001b[0m\u001b[0mn\u001b[0m\u001b[0;34m[\u001b[0m\u001b[0;36m1\u001b[0m\u001b[0;34m]\u001b[0m\u001b[0;34m)\u001b[0m\u001b[0;34m\u001b[0m\u001b[0;34m\u001b[0m\u001b[0m\n\u001b[0m\u001b[1;32m      6\u001b[0m     \u001b[0;31m# print(type(int(m[0])))\u001b[0m\u001b[0;34m\u001b[0m\u001b[0;34m\u001b[0m\u001b[0;34m\u001b[0m\u001b[0m\n\u001b[1;32m      7\u001b[0m     \u001b[0mwrite\u001b[0m\u001b[0;34m.\u001b[0m\u001b[0mwriterow\u001b[0m\u001b[0;34m(\u001b[0m\u001b[0;34m[\u001b[0m\u001b[0mn\u001b[0m\u001b[0;34m]\u001b[0m\u001b[0;34m)\u001b[0m\u001b[0;34m\u001b[0m\u001b[0;34m\u001b[0m\u001b[0m\n",
      "\u001b[0;31mIndexError\u001b[0m: string index out of range"
     ]
    }
   ],
   "source": [
    "r = reader(open(\"cleandata.csv\", \"rt\"))\n",
    "write = writer(open(\"output.csv\", \"w\"))\n",
    "for m in r :\n",
    "    n = m[0]\n",
    "    print(n[0]+n[1])\n",
    "    # print(type(int(m[0])))\n",
    "    write.writerow([n])"
   ]
  },
  {
   "cell_type": "code",
   "execution_count": 6,
   "metadata": {
    "tags": []
   },
   "outputs": [],
   "source": [
    "r = reader(open(\"output.csv\", \"rt\"))\n",
    "r1 = reader(open(\"output1.csv\", \"rt\"))\n",
    "r2 = reader(open(\"output2.csv\", \"rt\"))\n",
    "write = writer(open(\"cleandata.csv\", \"w\"))\n",
    "for m, m1, m2 in zip(r,r1, r2):\n",
    "    # print(m[3])\n",
    "    write.writerow([m[0], m1[0], m2[0]])\n",
    "    # if(m[3]==\"NAN\"):{\n",
    "    #     write.writerow(30)\n",
    "    # }\n",
    "    # else:{\n",
    "    #     write.writerow(int(float(m[3])))\n",
    "    # }"
   ]
  },
  {
   "cell_type": "code",
   "execution_count": null,
   "metadata": {},
   "outputs": [],
   "source": []
  }
 ]
}