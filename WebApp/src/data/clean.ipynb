{
 "metadata": {
  "language_info": {
   "codemirror_mode": {
    "name": "ipython",
    "version": 3
   },
   "file_extension": ".py",
   "mimetype": "text/x-python",
   "name": "python",
   "nbconvert_exporter": "python",
   "pygments_lexer": "ipython3",
   "version": "3.7.7-final"
  },
  "orig_nbformat": 2,
  "kernelspec": {
   "name": "python_defaultSpec_1600440851226",
   "display_name": "Python 3.7.7 64-bit ('CVCourse': conda)"
  }
 },
 "nbformat": 4,
 "nbformat_minor": 2,
 "cells": [
  {
   "cell_type": "code",
   "execution_count": 2,
   "metadata": {},
   "outputs": [],
   "source": [
    "import pandas as pd\n",
    "from csv import reader\n",
    "from csv import writer"
   ]
  },
  {
   "cell_type": "code",
   "execution_count": 6,
   "metadata": {
    "tags": []
   },
   "outputs": [],
   "source": [
    "r = reader(open(\"output.csv\", \"rt\"))\n",
    "r1 = reader(open(\"output1.csv\", \"rt\"))\n",
    "r2 = reader(open(\"output2.csv\", \"rt\"))\n",
    "write = writer(open(\"cleandata.csv\", \"w\"))\n",
    "for m, m1, m2 in zip(r,r1, r2):\n",
    "    # print(m[3])\n",
    "    write.writerow([m[0], m1[0], m2[0]])\n",
    "    # if(m[3]==\"NAN\"):{\n",
    "    #     write.writerow(30)\n",
    "    # }\n",
    "    # else:{\n",
    "    #     write.writerow(int(float(m[3])))\n",
    "    # }"
   ]
  },
  {
   "cell_type": "code",
   "execution_count": null,
   "metadata": {},
   "outputs": [],
   "source": []
  }
 ]
}